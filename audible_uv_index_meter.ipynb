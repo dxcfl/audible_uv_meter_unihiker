{
 "cells": [
  {
   "cell_type": "markdown",
   "id": "8b733c48",
   "metadata": {},
   "source": [
    "# Audible UV Index Meter\n",
    "\n",
    "Implementing a simple **audible** UV index meter with the \n",
    "DFRobot Gravity:Analog UV Sensor V2\n",
    "![UV Sensor V2](img/UV_sensor_SKU__SEN0162.png)\n",
    "and the \n",
    "DFRobot UNIHIKER\n",
    "![UNIHIKER](img/UNIHIKER.png)h\n"
   ]
  },
  {
   "cell_type": "markdown",
   "id": "1ee6d74e",
   "metadata": {},
   "source": [
    "## Connection\n",
    "The **DFRobot Gravity:Analog UV Sensor V2** must be connected to the **UNHIKER** on **P21**:\n",
    "![P21](img/UNIHIKER_P21.png)"
   ]
  },
  {
   "cell_type": "code",
   "execution_count": null,
   "id": "e3a80278",
   "metadata": {},
   "outputs": [],
   "source": [
    "# -*- coding: UTF-8 -*-\n",
    "# Experiment Effect: Print the analog value of the UNIHIKER P21 pin\n",
    "# Wiring: Connect a DFRobot Gravity:Analog UV Sensor V2 to the UNIHIKER P21 pin\n",
    "import time\n",
    "from pinpong.board import Board, Pin\n",
    "from unihiker import GUI\n",
    "from pinpong.extension.unihiker import *"
   ]
  },
  {
   "cell_type": "markdown",
   "id": "e2447b2f",
   "metadata": {},
   "source": [
    "## Auxilliary Functions\n",
    "### UV Index\n",
    "The UV index is calculated by comparing the voltage value read from the sensor to the following mapping table for the **GUVA-S12D** sensor\n",
    "![UV Index](img/UV_index.png)"
   ]
  },
  {
   "cell_type": "code",
   "execution_count": null,
   "id": "161e0a80",
   "metadata": {},
   "outputs": [],
   "source": [
    "# Function to convert sensor output voltage (mV) to UV index\n",
    "# for a GUVA-S12D based analog UV sensor based on a conversion table.\n",
    "# See http://www.esp32learning.com/code/esp32-and-guva-s12sd-uv-sensor-example.php\n",
    "# for conversion table ...\n",
    "def uv_index(mv):\n",
    "    uvi_mv_thresholds = [50, 227, 318, 408, 503, 606, 696, 795, 881, 976, 1079, 1170];\n",
    "    \n",
    "    for threshold in uvi_mv_thresholds:\n",
    "        if (mv < threshold ):\n",
    "            break\n",
    "            \n",
    "    i = uvi_mv_thresholds.index(threshold)\n",
    "    \n",
    "    if (i < 11 ):\n",
    "        uvi = mv/threshold*(i+1)\n",
    "    else:\n",
    "        uvi = 11\n",
    "        \n",
    "    return uvi"
   ]
  },
  {
   "cell_type": "markdown",
   "id": "cf9017a9",
   "metadata": {},
   "source": [
    "### UV Level\n",
    "The UV level ($mW/cm^{2}$) is calculated as follows\n",
    "\"The output voltage is: $Vo = 4.3 * Diode-Current-in-\\mu A$.\n",
    "So if the photocurrent is $1 \\mu A (\\sim 9 mW/cm^2)$, the output voltage is $4.3V$.\""
   ]
  },
  {
   "cell_type": "code",
   "execution_count": null,
   "id": "f1c612ca",
   "metadata": {},
   "outputs": [],
   "source": [
    "# Function to convert sensor output voltage (mV) to mW/m^2\n",
    "# for a GUVA-S12D based analog UV sensor: \"The output voltage is: Vo = 4.3 * Diode-Current-in-uA.\n",
    "# So if the photocurrent is 1uA (~ 9 mW/cm^2), the output voltage is 4.3V.\"\n",
    "def uv_level(mv):\n",
    "    return ( mv / 43 * 9 ) # 1 uA per 9 mW/cm^2 at 4.3V"
   ]
  },
  {
   "cell_type": "markdown",
   "id": "c0aeac07",
   "metadata": {},
   "source": [
    "### Risk level\n",
    "![Risk level](img/uv-index-en.png)"
   ]
  },
  {
   "cell_type": "code",
   "execution_count": null,
   "id": "2b54fe05",
   "metadata": {},
   "outputs": [],
   "source": [
    "def uv_risk_level(uvi):\n",
    "    # UV risk level mapping (UV index threshold,risk level,display color)\n",
    "    risk_levels=[(2,\"low\",\"green\"),(5,\"moderate\",\"yellow\"),(7,\"high\",\"orange\"),(10,\"very high\",\"red\"),(11,\"extreme\",\"violet\")]\n",
    "    \n",
    "    for risk_level in risk_levels:\n",
    "        if (uvi <= risk_level[0]):\n",
    "            break\n",
    "    \n",
    "    return risk_level"
   ]
  },
  {
   "cell_type": "markdown",
   "id": "cd064ba0",
   "metadata": {},
   "source": [
    "### Audible UV Index\n",
    "\n",
    "The UV index is presented as a sequence of tones played via the internal buzzer:\n",
    "\n",
    "One base tone C at the beginning of each sequence followed by\n",
    "\n",
    "* a number of F tones corresponding to (rounded) UV index levels 1 - 5 or\n",
    "* a number of A tones corresponding to (rounded) UV index levels 6 - 10 minus 5, following a sequence of five F tones or\n",
    "* a sequence of five F tone followed by five A tone and one C tone (next octave) for (rounded) UV index levels 11+.\n",
    "For example, if the UV index is 4 the tone sequence is C,F,F,F,F and if the UV index is 6.7 the tone sequence is C,F,F,F,F,F,A,A\n",
    "\n",
    "Represented as score the tone sequence looks like shown in the following image:\n",
    "![Score](img/audible_uv_meter_score.png)"
   ]
  },
  {
   "cell_type": "code",
   "execution_count": null,
   "id": "7913244b",
   "metadata": {},
   "outputs": [],
   "source": [
    "def buzzer_play_uv_index_melody(uvi):\n",
    "    # Play the corresponding tone sequence for the measured UV index on the buzzer:\n",
    "    # C5 (F5){UV index} for an UV index < 6,\n",
    "    # C5 (F5){5} (A5){UV index - 5} for an UV index 6 - 10 and\n",
    "    # C5 (F5){5} (A5){5} C6 for UV index 11 ...\n",
    "    buzzer.set_tempo(4, 160)\n",
    "    buzzer.pitch(523, 4) # C5\n",
    "    for i in range(0,uvi):\n",
    "        if i < 5:\n",
    "            buzzer.pitch(698, 4) # F5\n",
    "        elif i < 10:\n",
    "            buzzer.pitch(880, 4) # A5\n",
    "        else:\n",
    "            buzzer.pitch(1046, 4) # C6"
   ]
  },
  {
   "cell_type": "markdown",
   "id": "12bff950",
   "metadata": {},
   "source": [
    "## Application\n",
    "\n",
    "### Interrupt handler for button"
   ]
  },
  {
   "cell_type": "code",
   "execution_count": null,
   "id": "330d6413",
   "metadata": {},
   "outputs": [],
   "source": [
    "def btn_a_rasing_handler(pin):  # Interrupt event callback function for button A rising edge\n",
    "    global btn_a_pressed\n",
    "    btn_a_pressed = True\n",
    "    "
   ]
  },
  {
   "cell_type": "markdown",
   "id": "0e83dc2a",
   "metadata": {},
   "source": [
    "### Initialization"
   ]
  },
  {
   "cell_type": "code",
   "execution_count": null,
   "id": "4d178f70",
   "metadata": {},
   "outputs": [],
   "source": [
    "Board().begin() # Initialize the UNIHIKER\n",
    "gui = GUI() # Instantiate the GUI class"
   ]
  },
  {
   "cell_type": "markdown",
   "id": "982a6ac1",
   "metadata": {},
   "source": [
    "### Analog input configuration"
   ]
  },
  {
   "cell_type": "code",
   "execution_count": null,
   "id": "28e9013d",
   "metadata": {},
   "outputs": [],
   "source": [
    "# ADC analog input pins supported: P0 P1 P2 P3 P4 P10 P21 P22\n",
    "# adc21 = ADC(Pin(Pin.P21))  # Use Pin object with ADC to enable analog input - Method 1\n",
    "adc21 = Pin(Pin.P21, Pin.ANALOG)  # Initialize the pin as an analog input - Method 2"
   ]
  },
  {
   "cell_type": "markdown",
   "id": "38d16f58",
   "metadata": {},
   "source": [
    "### Interrupt handling for button"
   ]
  },
  {
   "cell_type": "code",
   "execution_count": null,
   "id": "efd6c914",
   "metadata": {},
   "outputs": [],
   "source": [
    "btn_a_pressed = False\n",
    "button_a.irq(trigger=Pin.IRQ_RISING, handler=btn_a_rasing_handler)  # Trigger on rising edge"
   ]
  },
  {
   "cell_type": "markdown",
   "id": "b7dd1363",
   "metadata": {},
   "source": [
    "### GUI Setup\n",
    "\n",
    "The GUI displays the measured UV index and the associated risk level on a background image with a touch of the color associated with the risk level: \n",
    "![Screenshot](img/screenshot.jpg)"
   ]
  },
  {
   "cell_type": "code",
   "execution_count": null,
   "id": "c7b48183",
   "metadata": {},
   "outputs": [],
   "source": [
    "# GUI: \n",
    "#   Display a background image with the color touch of the risk level,\n",
    "#   the UV index and the risk level text ...\n",
    "bg = gui.draw_image(x=0, y=0, h=320, w=240, image='img/background_green.jpg')\n",
    "title = gui.draw_text(x=120, y=80, text=\"UV Index\", origin=\"center\", color=\"white\", font_size=25)\n",
    "uv_index_text = gui.draw_digit(x=120, y=160, text=\"UVI\", origin=\"center\", color=\"white\", font_size=50) # Display UV index using 7-segment font\n",
    "uv_risk_text = gui.draw_text(x=120, y=240, text=\"N/A\", origin=\"center\", color=\"white\", font_size=25)"
   ]
  },
  {
   "cell_type": "markdown",
   "id": "96f263a4",
   "metadata": {},
   "source": [
    "\n",
    "### Loop"
   ]
  },
  {
   "cell_type": "code",
   "execution_count": null,
   "id": "597e5540",
   "metadata": {},
   "outputs": [],
   "source": [
    "i0 = 0\n",
    "l0 = 0\n",
    "r0 = None\n",
    "\n",
    "while True:\n",
    "    # Read the sensor value ...\n",
    "    # v = adc21.read()  # Read the analog signal value from pin A0 - Method 1\n",
    "    v = adc21.read_analog()  # Read the analog signal value from pin A0 - Method 2\n",
    "        \n",
    "    # Calculate UV index, level and risk ...\n",
    "    i = uv_index(v)\n",
    "    l = uv_level(v)\n",
    "    r = uv_risk_level(i)\n",
    "    \n",
    "    # Print the data ...\n",
    "    # print(\"P21 =\", v)\n",
    "    # print(\"UV index =\",i)\n",
    "    # print(\"UV level =\",l)\n",
    "    # print(\"Risk level:\",r[1])\n",
    "    # print(\"-----------------------------------------------------------------------\")\n",
    "    \n",
    "    # Update UI ...\n",
    "    uv_index_text.config(text=\"%.2f\" % i)\n",
    "    if r0 != r: # Update the background image and the risk level text only if the risk level changed ...\n",
    "        bg.config(image='img/background_'+r[2]+'.jpg')\n",
    "        uv_risk_text.config(text=r[1])\n",
    "    \n",
    "    # If the button has been pressed, play the UV index 'melody' ...\n",
    "    if  btn_a_pressed:\n",
    "        btn_a_pressed = False\n",
    "        buzzer_play_uv_index_melody(round(i))\n",
    "    \n",
    "    i0 = i\n",
    "    l0 = l\n",
    "    r0 = r\n",
    "    \n",
    "    time.sleep(1) # Wait for a second .."
   ]
  },
  {
   "cell_type": "markdown",
   "id": "14b6cfb8",
   "metadata": {},
   "source": [
    "![Test](img/test.jpg)"
   ]
  }
 ],
 "metadata": {
  "kernelspec": {
   "display_name": "Python 3 (ipykernel)",
   "language": "python",
   "name": "python3"
  },
  "language_info": {
   "codemirror_mode": {
    "name": "ipython",
    "version": 3
   },
   "file_extension": ".py",
   "mimetype": "text/x-python",
   "name": "python",
   "nbconvert_exporter": "python",
   "pygments_lexer": "ipython3",
   "version": "3.7.3"
  }
 },
 "nbformat": 4,
 "nbformat_minor": 5
}
